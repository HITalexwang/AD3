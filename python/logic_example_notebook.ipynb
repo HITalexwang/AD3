{
 "metadata": {
  "name": ""
 },
 "nbformat": 3,
 "nbformat_minor": 0,
 "worksheets": [
  {
   "cells": [
    {
     "cell_type": "heading",
     "level": 2,
     "metadata": {},
     "source": [
      "A simple model for co-reference resolution."
     ]
    },
    {
     "cell_type": "code",
     "collapsed": false,
     "input": [
      "%matplotlib inline\n",
      "import ad3\n",
      "import numpy as np\n",
      "import matplotlib.pyplot as plt"
     ],
     "language": "python",
     "metadata": {},
     "outputs": [],
     "prompt_number": 1
    },
    {
     "cell_type": "raw",
     "metadata": {},
     "source": [
      "There are pairwise similarities between words, and there is a transitivity constraint - if words A and B are co-referent, and so are B and C, then A and C must also be coreferent. Finally, there is a constraint that any cluster of co-referents must have a word which is not a prononun. This is done by using FactorIMPLY and FactorOR."
     ]
    },
    {
     "cell_type": "raw",
     "metadata": {},
     "source": [
      "Set parameters of the model."
     ]
    },
    {
     "cell_type": "code",
     "collapsed": false,
     "input": [
      "num_words = 20\n",
      "pronoun_probability = .8 # Probability of a word being a pronoun.\n",
      "is_pronoun = [False, False] # At least two nouns.\n",
      "for i in xrange(2, num_words):\n",
      "    is_pronoun.append(np.random.uniform() < pronoun_probability)\n",
      "print is_pronoun"
     ],
     "language": "python",
     "metadata": {},
     "outputs": [
      {
       "output_type": "stream",
       "stream": "stdout",
       "text": [
        "[False, False, False, True, False, True, True, False, True, True, False, True, False, True, True, True, False, False, False, True]\n"
       ]
      }
     ],
     "prompt_number": 2
    },
    {
     "cell_type": "raw",
     "metadata": {},
     "source": [
      "Create a factor graph."
     ]
    },
    {
     "cell_type": "code",
     "collapsed": false,
     "input": [
      "factor_graph = ad3.PFactorGraph()"
     ],
     "language": "python",
     "metadata": {},
     "outputs": [],
     "prompt_number": 3
    },
    {
     "cell_type": "raw",
     "metadata": {},
     "source": [
      "Create variable nodes."
     ]
    },
    {
     "cell_type": "code",
     "collapsed": false,
     "input": [
      "variable_nodes = []\n",
      "for i in xrange(num_words):\n",
      "    variable_nodes.append([])\n",
      "    for j in xrange(i):\n",
      "        node = factor_graph.create_binary_variable() # Create a binary variable for words i,j being co-referent.\n",
      "        node.set_log_potential(np.random.uniform(-.5, .5)) # Set its log-potential.\n",
      "        variable_nodes[i].append(node)"
     ],
     "language": "python",
     "metadata": {},
     "outputs": [],
     "prompt_number": 4
    },
    {
     "cell_type": "raw",
     "metadata": {},
     "source": [
      "Impose transitivity constraints."
     ]
    },
    {
     "cell_type": "code",
     "collapsed": false,
     "input": [
      "for i in xrange(num_words):\n",
      "    for j in xrange(i):\n",
      "        for k in xrange(j):\n",
      "            local_variables = [variable_nodes[i][j], variable_nodes[j][k], variable_nodes[i][k]]\n",
      "            negated = [False, False, False]\n",
      "            factor_graph.create_factor_logic('IMPLY', local_variables, negated) # ij ^ jk => ik.\n",
      "        \n",
      "            local_variables = [variable_nodes[j][k], variable_nodes[i][k], variable_nodes[i][j]]\n",
      "            negated = [False, False, False]\n",
      "            factor_graph.create_factor_logic('IMPLY', local_variables, negated) # jk ^ ik => ij.\n",
      "\n",
      "            local_variables = [variable_nodes[i][k], variable_nodes[i][j], variable_nodes[j][k]]\n",
      "            negated = [False, False, False]\n",
      "            factor_graph.create_factor_logic('IMPLY', local_variables, negated) # ik ^ ij => jk."
     ],
     "language": "python",
     "metadata": {},
     "outputs": [],
     "prompt_number": 5
    },
    {
     "cell_type": "raw",
     "metadata": {},
     "source": [
      "Impose that every entity cluster must have a non-pronoun.\n",
      "This is done by defining a OR factor for each pronoun, linked to all the pairs formed by that pronoun and each noun word."
     ]
    },
    {
     "cell_type": "code",
     "collapsed": false,
     "input": [
      "for i in xrange(num_words):\n",
      "    if not is_pronoun[i]:\n",
      "        continue\n",
      "    local_variables = []\n",
      "    negated = []\n",
      "    for j in xrange(i):\n",
      "        if is_pronoun[j]:\n",
      "            continue\n",
      "        local_variables.append(variable_nodes[i][j])\n",
      "        negated.append(False)\n",
      "    for k in xrange(i+1, num_words):\n",
      "        if is_pronoun[k]:\n",
      "            continue\n",
      "        local_variables.append(variable_nodes[k][i])\n",
      "        negated.append(False)\n",
      "    factor_graph.create_factor_logic('OR', local_variables, negated)"
     ],
     "language": "python",
     "metadata": {},
     "outputs": [],
     "prompt_number": 6
    },
    {
     "cell_type": "raw",
     "metadata": {},
     "source": [
      "Compute the MAP using MPLP."
     ]
    },
    {
     "cell_type": "code",
     "collapsed": false,
     "input": [
      "factor_graph.store_primal_dual_sequences(True) \n",
      "num_iterations = 500\n",
      "\n",
      "factor_graph.set_max_iterations_mplp(num_iterations)\n",
      "value, node_beliefs, _, solver_status = factor_graph.solve_lp_map_mplp()\n",
      "primal_obj_seq_mplp, dual_obj_seq_mplp = factor_graph.get_primal_dual_sequences()"
     ],
     "language": "python",
     "metadata": {},
     "outputs": [],
     "prompt_number": 7
    },
    {
     "cell_type": "raw",
     "metadata": {},
     "source": [
      "Compute the MAP using PSDD."
     ]
    },
    {
     "cell_type": "code",
     "collapsed": false,
     "input": [
      "factor_graph.set_eta_psdd(0.01) # Initial stepsize.\n",
      "factor_graph.enable_caching_psdd(False)\n",
      "factor_graph.set_max_iterations_psdd(num_iterations)\n",
      "value, node_beliefs, _, solver_status = factor_graph.solve_lp_map_psdd()\n",
      "primal_obj_seq_psdd, dual_obj_seq_psdd = factor_graph.get_primal_dual_sequences()"
     ],
     "language": "python",
     "metadata": {},
     "outputs": [],
     "prompt_number": 8
    },
    {
     "cell_type": "raw",
     "metadata": {},
     "source": [
      "Compute the MAP using AD3."
     ]
    },
    {
     "cell_type": "code",
     "collapsed": false,
     "input": [
      "factor_graph.set_eta_ad3(0.1) # Stepsize.\n",
      "factor_graph.adapt_eta_ad3(False)\n",
      "factor_graph.enable_caching_ad3(False)\n",
      "factor_graph.set_max_iterations_ad3(num_iterations)\n",
      "value, node_beliefs, _, solver_status = factor_graph.solve_lp_map_ad3()\n",
      "primal_obj_seq_ad3, dual_obj_seq_ad3 = factor_graph.get_primal_dual_sequences()"
     ],
     "language": "python",
     "metadata": {},
     "outputs": [],
     "prompt_number": 9
    },
    {
     "cell_type": "raw",
     "metadata": {},
     "source": [
      "Plot the dual and primal objectives."
     ]
    },
    {
     "cell_type": "code",
     "collapsed": false,
     "input": [
      "plt.plot(np.arange(len(dual_obj_seq_mplp)), dual_obj_seq_mplp, 'c-', label='MPLP (dual)')\n",
      "#plt.plot(np.arange(len(primal_obj_seq_mplp)), primal_obj_seq_mplp, 'c--', label='MPLP (primal)')\n",
      "\n",
      "plt.plot(np.arange(len(dual_obj_seq_psdd)), dual_obj_seq_psdd, 'r-', label='PSDD (dual)')\n",
      "#plt.plot(np.arange(len(primal_obj_seq_psdd)), primal_obj_seq_psdd, 'r--', label='PSDD (primal)')\n",
      "\n",
      "plt.plot(np.arange(len(dual_obj_seq_ad3)), dual_obj_seq_ad3, 'g-', label='AD3 (dual)')\n",
      "#plt.plot(np.arange(len(primal_obj_seq_ad3)), primal_obj_seq_ad3, 'g--', label='AD3 (primal)')\n",
      "\n",
      "plt.legend(loc=1)\n",
      "plt.ylabel('Objective value')\n",
      "plt.xlabel('Number of iterations')\n",
      "#plt.ylim((800, 820))"
     ],
     "language": "python",
     "metadata": {},
     "outputs": [
      {
       "metadata": {},
       "output_type": "pyout",
       "prompt_number": 10,
       "text": [
        "<matplotlib.text.Text at 0x7f518c0fad50>"
       ]
      },
      {
       "metadata": {},
       "output_type": "display_data",
       "png": "[encoded data removed]",
       "text": [
        "<matplotlib.figure.Figure at 0x7f5170bcb0d0>"
       ]
      }
     ],
     "prompt_number": 10
    },
    {
     "cell_type": "code",
     "collapsed": false,
     "input": [
      "factor_graph.store_primal_dual_sequences(False) \n",
      "num_iterations = 500\n",
      "factor_graph.set_eta_ad3(0.1) # Stepsize.\n",
      "factor_graph.adapt_eta_ad3(True)\n",
      "factor_graph.enable_caching_ad3(True)\n",
      "factor_graph.set_max_iterations_ad3(num_iterations)\n",
      "value, node_beliefs, _, solver_status = factor_graph.solve_exact_map_ad3()\n",
      "print value"
     ],
     "language": "python",
     "metadata": {},
     "outputs": [
      {
       "output_type": "stream",
       "stream": "stdout",
       "text": [
        "10.1543408077\n"
       ]
      }
     ],
     "prompt_number": 11
    },
    {
     "cell_type": "code",
     "collapsed": false,
     "input": [],
     "language": "python",
     "metadata": {},
     "outputs": [],
     "prompt_number": 11
    }
   ],
   "metadata": {}
  }
 ]
}