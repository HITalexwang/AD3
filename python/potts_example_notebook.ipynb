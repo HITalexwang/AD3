{
 "metadata": {
  "name": ""
 },
 "nbformat": 3,
 "nbformat_minor": 0,
 "worksheets": [
  {
   "cells": [
    {
     "cell_type": "heading",
     "level": 2,
     "metadata": {},
     "source": [
      "A simple grid Potts model."
     ]
    },
    {
     "cell_type": "code",
     "collapsed": false,
     "input": [
      "%matplotlib inline\n",
      "import ad3\n",
      "import numpy as np\n",
      "import matplotlib.pyplot as plt"
     ],
     "language": "python",
     "metadata": {},
     "outputs": [],
     "prompt_number": 248
    },
    {
     "cell_type": "raw",
     "metadata": {},
     "source": [
      "Set parameters of the model."
     ]
    },
    {
     "cell_type": "code",
     "collapsed": false,
     "input": [
      "grid_size = 20 # Grid size.\n",
      "num_states = 8 # Number of states.\n",
      "attractive = True # True if neighboring nodes are encouraged to have the same state. \n",
      "edge_strength = 2.0 # 5.0 # Strength of the edge log-potentials relative to the node log-potentials.\n",
      "\n",
      "# Set random node potentials.\n",
      "node_log_potentials = np.random.uniform(-1.0, 1.0, size=(grid_size, grid_size, num_states))\n",
      "\n",
      "# Set random edge potentials.\n",
      "if attractive:\n",
      "    horizontal_edge_log_potentials = np.random.uniform(0.0, edge_strength, size=(grid_size, grid_size))\n",
      "    vertical_edge_log_potentials = np.random.uniform(0.0, edge_strength, size=(grid_size, grid_size))\n",
      "else:\n",
      "    horizontal_edge_log_potentials = np.random.uniform(-edge_strength, edge_strength, size=(grid_size, grid_size))\n",
      "    vertical_edge_log_potentials = np.random.uniform(-edge_strength, edge_strength, size=(grid_size, grid_size))"
     ],
     "language": "python",
     "metadata": {},
     "outputs": [],
     "prompt_number": 249
    },
    {
     "cell_type": "raw",
     "metadata": {},
     "source": [
      "Create a factor graph."
     ]
    },
    {
     "cell_type": "code",
     "collapsed": false,
     "input": [
      "factor_graph = ad3.PFactorGraph()"
     ],
     "language": "python",
     "metadata": {},
     "outputs": [],
     "prompt_number": 250
    },
    {
     "cell_type": "raw",
     "metadata": {},
     "source": [
      "Create variable nodes."
     ]
    },
    {
     "cell_type": "code",
     "collapsed": false,
     "input": [
      "variable_nodes = []\n",
      "for i in xrange(grid_size):\n",
      "    variable_nodes.append([])\n",
      "    for j in xrange(grid_size):\n",
      "        node = factor_graph.create_multi_variable(num_states) # Create a multi-valued variable node.\n",
      "        for state in xrange(num_states):\n",
      "            node.set_log_potential(state, node_log_potentials[i, j, state]) # Set its log-potentials.\n",
      "        variable_nodes[i].append(node)"
     ],
     "language": "python",
     "metadata": {},
     "outputs": [],
     "prompt_number": 251
    },
    {
     "cell_type": "raw",
     "metadata": {},
     "source": [
      "Create pairwise factor nodes for the grid edges."
     ]
    },
    {
     "cell_type": "code",
     "collapsed": false,
     "input": [
      "for i in xrange(grid_size):\n",
      "    for j in xrange(grid_size):\n",
      "        if (j > 0):\n",
      "            # Horizontal edge.\n",
      "            potts_matrix = horizontal_edge_log_potentials[i, j] * np.eye(num_states)\n",
      "            potts_potentials = potts_matrix.ravel().tolist()\n",
      "            edge_variables = [variable_nodes[i][j - 1], variable_nodes[i][j]]\n",
      "            factor_graph.create_factor_dense(edge_variables, potts_potentials)\n",
      "        \n",
      "        if (i > 0):\n",
      "            # Vertical edge.\n",
      "            potts_matrix = vertical_edge_log_potentials[i, j] * np.eye(num_states)\n",
      "            potts_potentials = potts_matrix.ravel().tolist()\n",
      "            edge_variables = [variable_nodes[i - 1][j], variable_nodes[i][j]]\n",
      "            factor_graph.create_factor_dense(edge_variables, potts_potentials)"
     ],
     "language": "python",
     "metadata": {},
     "outputs": [],
     "prompt_number": 252
    },
    {
     "cell_type": "raw",
     "metadata": {},
     "source": [
      "Compute the MAP using MPLP."
     ]
    },
    {
     "cell_type": "code",
     "collapsed": false,
     "input": [
      "factor_graph.store_primal_dual_sequences(True) \n",
      "num_iterations = 500\n",
      "\n",
      "factor_graph.set_max_iterations_mplp(num_iterations)\n",
      "value, node_beliefs, _, solver_status = factor_graph.solve_lp_map_mplp()\n",
      "primal_obj_seq_mplp, dual_obj_seq_mplp = factor_graph.get_primal_dual_sequences()"
     ],
     "language": "python",
     "metadata": {},
     "outputs": [],
     "prompt_number": 253
    },
    {
     "cell_type": "raw",
     "metadata": {},
     "source": [
      "Compute the MAP using PSDD."
     ]
    },
    {
     "cell_type": "code",
     "collapsed": false,
     "input": [
      "factor_graph.set_eta_psdd(0.1) # Initial stepsize.\n",
      "factor_graph.enable_caching_psdd(False)\n",
      "factor_graph.set_max_iterations_psdd(num_iterations)\n",
      "value, node_beliefs, _, solver_status = factor_graph.solve_lp_map_psdd()\n",
      "primal_obj_seq_psdd, dual_obj_seq_psdd = factor_graph.get_primal_dual_sequences()"
     ],
     "language": "python",
     "metadata": {},
     "outputs": [],
     "prompt_number": 254
    },
    {
     "cell_type": "raw",
     "metadata": {},
     "source": [
      "Compute the MAP using AD3."
     ]
    },
    {
     "cell_type": "code",
     "collapsed": false,
     "input": [
      "factor_graph.set_eta_ad3(0.1) # Stepsize.\n",
      "factor_graph.adapt_eta_ad3(False)\n",
      "factor_graph.enable_caching_ad3(False)\n",
      "factor_graph.set_max_iterations_ad3(num_iterations)\n",
      "value, node_beliefs, _, solver_status = factor_graph.solve_lp_map_ad3()\n",
      "primal_obj_seq_ad3, dual_obj_seq_ad3 = factor_graph.get_primal_dual_sequences()"
     ],
     "language": "python",
     "metadata": {},
     "outputs": [],
     "prompt_number": 255
    },
    {
     "cell_type": "raw",
     "metadata": {},
     "source": [
      "Plot the dual and primal objectives."
     ]
    },
    {
     "cell_type": "code",
     "collapsed": false,
     "input": [
      "plt.plot(np.arange(len(dual_obj_seq_mplp)), dual_obj_seq_mplp, 'c-', label='MPLP (dual)')\n",
      "plt.plot(np.arange(len(primal_obj_seq_mplp)), primal_obj_seq_mplp, 'c--', label='MPLP (primal)')\n",
      "\n",
      "plt.plot(np.arange(len(dual_obj_seq_psdd)), dual_obj_seq_psdd, 'r-', label='PSDD (dual)')\n",
      "plt.plot(np.arange(len(primal_obj_seq_psdd)), primal_obj_seq_psdd, 'r--', label='PSDD (primal)')\n",
      "\n",
      "plt.plot(np.arange(len(dual_obj_seq_ad3)), dual_obj_seq_ad3, 'g-', label='AD3 (dual)')\n",
      "plt.plot(np.arange(len(primal_obj_seq_ad3)), primal_obj_seq_ad3, 'g--', label='AD3 (primal)')\n",
      "\n",
      "plt.legend(loc=1)\n",
      "plt.ylabel('Objective value')\n",
      "plt.xlabel('Number of iterations')\n",
      "plt.ylim((760, 820))"
     ],
     "language": "python",
     "metadata": {},
     "outputs": [
      {
       "metadata": {},
       "output_type": "pyout",
       "prompt_number": 260,
       "text": [
        "(760, 820)"
       ]
      },
      {
       "metadata": {},
       "output_type": "display_data",
       "png": "[encoded data removed]",
       "text": [
        "<matplotlib.figure.Figure at 0x7fde67039350>"
       ]
      }
     ],
     "prompt_number": 260
    },
    {
     "cell_type": "raw",
     "metadata": {},
     "source": [
      "Round the result and visualize the MAP."
     ]
    },
    {
     "cell_type": "code",
     "collapsed": false,
     "input": [
      "res = np.array(node_beliefs).reshape(grid_size, grid_size, num_states)\n",
      "plt.matshow(np.argmax(node_log_potentials, axis=-1), vmin=0, vmax=num_states-1) # Independent decoding.\n",
      "plt.matshow(np.argmax(res, axis=-1), vmin=0, vmax=num_states-1)"
     ],
     "language": "python",
     "metadata": {},
     "outputs": [
      {
       "metadata": {},
       "output_type": "pyout",
       "prompt_number": 257,
       "text": [
        "<matplotlib.image.AxesImage at 0x7fde670bb610>"
       ]
      },
      {
       "metadata": {},
       "output_type": "display_data",
       "png": "[encoded data removed]",
       "text": [
        "<matplotlib.figure.Figure at 0x7fde6737a8d0>"
       ]
      },
      {
       "metadata": {},
       "output_type": "display_data",
       "png": "[encoded data removed]",
       "text": [
        "<matplotlib.figure.Figure at 0x7fde6737af10>"
       ]
      }
     ],
     "prompt_number": 257
    }
   ],
   "metadata": {}
  }
 ]
}