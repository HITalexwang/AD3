{
 "metadata": {
  "name": ""
 },
 "nbformat": 3,
 "nbformat_minor": 0,
 "worksheets": [
  {
   "cells": [
    {
     "cell_type": "heading",
     "level": 2,
     "metadata": {},
     "source": [
      "A simple grid MRF with Potts potentials in AD3"
     ]
    },
    {
     "cell_type": "code",
     "collapsed": false,
     "input": [
      "%matplotlib inline\n",
      "import itertools\n",
      "import ad3\n",
      "import numpy as np\n",
      "import matplotlib.pyplot as plt"
     ],
     "language": "python",
     "metadata": {},
     "outputs": [],
     "prompt_number": 74
    },
    {
     "cell_type": "raw",
     "metadata": {},
     "source": [
      "Set parameters of the model"
     ]
    },
    {
     "cell_type": "code",
     "collapsed": false,
     "input": [
      "grid_size = 20\n",
      "num_states = 8"
     ],
     "language": "python",
     "metadata": {},
     "outputs": [],
     "prompt_number": 75
    },
    {
     "cell_type": "raw",
     "metadata": {},
     "source": [
      "Create a factor graph"
     ]
    },
    {
     "cell_type": "code",
     "collapsed": false,
     "input": [
      "factor_graph = ad3.PFactorGraph()"
     ],
     "language": "python",
     "metadata": {},
     "outputs": [],
     "prompt_number": 76
    },
    {
     "cell_type": "raw",
     "metadata": {},
     "source": [
      "Create variables lying on a grid with random potentials."
     ]
    },
    {
     "cell_type": "code",
     "collapsed": false,
     "input": [
      "multi_variables = []\n",
      "random_grid = np.random.uniform(size=(grid_size, grid_size, num_states))\n",
      "for i in xrange(grid_size):\n",
      "    multi_variables.append([])\n",
      "    for j in xrange(grid_size):\n",
      "        new_variable = factor_graph.create_multi_variable(num_states)\n",
      "        for state in xrange(num_states):\n",
      "            new_variable.set_log_potential(state, random_grid[i, j, state])\n",
      "        multi_variables[i].append(new_variable)\n",
      "        "
     ],
     "language": "python",
     "metadata": {},
     "outputs": [],
     "prompt_number": 77
    },
    {
     "cell_type": "raw",
     "metadata": {},
     "source": [
      "Create potts potentials for edges."
     ]
    },
    {
     "cell_type": "code",
     "collapsed": false,
     "input": [
      "alpha = .3\n",
      "potts_matrix = alpha * np.eye(num_states)\n",
      "potts_potentials = potts_matrix.ravel().tolist()"
     ],
     "language": "python",
     "metadata": {},
     "outputs": [],
     "prompt_number": 78
    },
    {
     "cell_type": "raw",
     "metadata": {},
     "source": [
      "Create factors for edges from potts potentials"
     ]
    },
    {
     "cell_type": "code",
     "collapsed": false,
     "input": [
      "for i, j in itertools.product(xrange(grid_size), repeat=2):\n",
      "    if (j > 0):\n",
      "        #horizontal edge\n",
      "        alpha = np.random.uniform(-10.0, 10.0)\n",
      "        potts_matrix = alpha * np.eye(num_states)\n",
      "        potts_potentials = potts_matrix.ravel().tolist()\n",
      "        edge_variables = [multi_variables[i][j - 1], multi_variables[i][j]]\n",
      "        factor_graph.create_factor_dense(edge_variables, potts_potentials)\n",
      "    \n",
      "    if (i > 0):\n",
      "        #horizontal edge\n",
      "        alpha = np.random.uniform(-10.0, 10.0)\n",
      "        potts_matrix = alpha * np.eye(num_states)\n",
      "        potts_potentials = potts_matrix.ravel().tolist()\n",
      "        edge_variables = [multi_variables[i - 1][j], multi_variables[i][j]]\n",
      "        factor_graph.create_factor_dense(edge_variables, potts_potentials)\n",
      "    "
     ],
     "language": "python",
     "metadata": {},
     "outputs": [],
     "prompt_number": 79
    },
    {
     "cell_type": "raw",
     "metadata": {},
     "source": [
      "Set model parameters and compute the map using AD3"
     ]
    },
    {
     "cell_type": "code",
     "collapsed": false,
     "input": [
      "factor_graph.store_primal_dual_sequences(True)\n",
      "\n",
      "num_iterations = 200\n",
      "\n",
      "factor_graph.set_eta_ad3(.1)\n",
      "#factor_graph.set_eta_ad3(.1)\n",
      "factor_graph.adapt_eta_ad3(False)\n",
      "factor_graph.enable_caching_ad3(False)\n",
      "factor_graph.set_max_iterations_ad3(num_iterations)\n",
      "value, marginals, edge_marginals, solver_status = factor_graph.solve_lp_map_ad3()\n",
      "primal_obj_seq, dual_obj_seq = factor_graph.get_primal_dual_sequences()\n",
      "\n",
      "plt.plot(np.arange(num_iterations), dual_obj_seq, 'g-', label='AD3 (dual)')\n",
      "#plt.plot(np.arange(num_iterations), primal_obj_seq, 'g--', label='AD3 (primal)')\n",
      "#plt.hold(True)\n",
      "\n",
      "#print primal_obj_seq[:5], dual_obj_seq[:5]\n",
      "\n",
      "#factor_graph.store_primal_dual_sequences(True)\n",
      "factor_graph.set_max_iterations_mplp(num_iterations)\n",
      "value_mplp, marginals_mplp, edge_marginals_mplp, solver_status_mplp = factor_graph.solve_lp_map_mplp()\n",
      "primal_obj_seq_mplp, dual_obj_seq_mplp = factor_graph.get_primal_dual_sequences()\n",
      "\n",
      "plt.plot(np.arange(num_iterations), dual_obj_seq_mplp, 'c-', label='MPLP (dual)')\n",
      "#plt.plot(np.arange(num_iterations), primal_obj_seq_mplp, 'c--', label='MPLP (primal)')\n",
      "\n",
      "plt.show()\n",
      "\n",
      "#print primal_obj_seq_mplp[:5], dual_obj_seq_mplp[:5]\n",
      "\n",
      "#print len(dual_obj_seq)\n",
      "#print len(dual_obj_seq_mplp)\n",
      "\n"
     ],
     "language": "python",
     "metadata": {},
     "outputs": [
      {
       "metadata": {},
       "output_type": "display_data",
       "png": "[encoded data removed]",
       "text": [
        "<matplotlib.figure.Figure at 0x7f3e435e5950>"
       ]
      }
     ],
     "prompt_number": 85
    },
    {
     "cell_type": "raw",
     "metadata": {},
     "source": [
      "Visualize resulting MAP"
     ]
    },
    {
     "cell_type": "code",
     "collapsed": false,
     "input": [
      "plt.matshow(np.argmax(random_grid, axis=-1), vmin=0, vmax=num_states-1)\n",
      "\n",
      "res = np.array(marginals).reshape(grid_size, grid_size, num_states)\n",
      "plt.matshow(np.argmax(res, axis=-1), vmin=0, vmax=num_states-1)\n",
      "\n",
      "res = np.array(marginals_mplp).reshape(grid_size, grid_size, num_states)\n",
      "plt.matshow(np.argmax(res, axis=-1), vmin=0, vmax=num_states-1)"
     ],
     "language": "python",
     "metadata": {},
     "outputs": [
      {
       "metadata": {},
       "output_type": "pyout",
       "prompt_number": 81,
       "text": [
        "<matplotlib.image.AxesImage at 0x7f3e43447550>"
       ]
      },
      {
       "metadata": {},
       "output_type": "display_data",
       "png": "[encoded data removed]",
       "text": [
        "<matplotlib.figure.Figure at 0x7f3e43459090>"
       ]
      },
      {
       "metadata": {},
       "output_type": "display_data",
       "png": "[encoded data removed]",
       "text": [
        "<matplotlib.figure.Figure at 0x7f3e43a5bb10>"
       ]
      },
      {
       "metadata": {},
       "output_type": "display_data",
       "png": "[encoded data removed]",
       "text": [
        "<matplotlib.figure.Figure at 0x7f3e436fd910>"
       ]
      }
     ],
     "prompt_number": 81
    },
    {
     "cell_type": "code",
     "collapsed": false,
     "input": [],
     "language": "python",
     "metadata": {},
     "outputs": [],
     "prompt_number": 81
    },
    {
     "cell_type": "code",
     "collapsed": false,
     "input": [],
     "language": "python",
     "metadata": {},
     "outputs": [],
     "prompt_number": 81
    },
    {
     "cell_type": "code",
     "collapsed": false,
     "input": [],
     "language": "python",
     "metadata": {},
     "outputs": [],
     "prompt_number": 81
    }
   ],
   "metadata": {}
  }
 ]
}